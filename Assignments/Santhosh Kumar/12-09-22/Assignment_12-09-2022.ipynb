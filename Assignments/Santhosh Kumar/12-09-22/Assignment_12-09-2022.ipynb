{
 "cells": [
  {
   "cell_type": "markdown",
   "id": "0c541927",
   "metadata": {},
   "source": [
    "# PYTHON ASSIGNMENT   12-09-2022"
   ]
  },
  {
   "cell_type": "markdown",
   "id": "c494d68c",
   "metadata": {},
   "source": [
    "## 1. Consider a list (list = []). You can perform the following commands:\n",
    "#### insert i e: Insert integer  at position .\n",
    "#### print: Print the list.\n",
    "#### remove e: Delete the first occurrence of integer .\n",
    "#### append e: Insert integer  at the end of the list.\n",
    "#### sort: Sort the list.\n",
    "#### pop: Pop the last element from the list.\n",
    "#### reverse: Reverse the list.\n",
    "#### Initialize your list and read in the value of  followed by  lines of commands where each command will be of the  types listed above. Iterate through each command in order and perform the corresponding operation on your list.\n",
    " "
   ]
  },
  {
   "cell_type": "code",
   "execution_count": 12,
   "id": "6bb95515-28b5-43a0-9424-e3520825d970",
   "metadata": {},
   "outputs": [
    {
     "name": "stdout",
     "output_type": "stream",
     "text": [
      "Commands: \n",
      "\n"
     ]
    },
    {
     "name": "stdin",
     "output_type": "stream",
     "text": [
      " insert 1 3\n",
      " print\n"
     ]
    },
    {
     "name": "stdout",
     "output_type": "stream",
     "text": [
      "[3]\n"
     ]
    },
    {
     "name": "stdin",
     "output_type": "stream",
     "text": [
      " insert 3 4\n",
      " insert 4 13\n",
      " insert 3 12\n",
      " print\n"
     ]
    },
    {
     "name": "stdout",
     "output_type": "stream",
     "text": [
      "[3, 4, 13, 12]\n"
     ]
    },
    {
     "name": "stdin",
     "output_type": "stream",
     "text": [
      " remove 4\n",
      " print\n"
     ]
    },
    {
     "name": "stdout",
     "output_type": "stream",
     "text": [
      "[3, 13, 12]\n"
     ]
    },
    {
     "name": "stdin",
     "output_type": "stream",
     "text": [
      " append 55\n",
      " print\n"
     ]
    },
    {
     "name": "stdout",
     "output_type": "stream",
     "text": [
      "[3, 13, 12, 55]\n"
     ]
    },
    {
     "name": "stdin",
     "output_type": "stream",
     "text": [
      " sort\n",
      " print\n"
     ]
    },
    {
     "name": "stdout",
     "output_type": "stream",
     "text": [
      "[3, 12, 13, 55]\n"
     ]
    },
    {
     "name": "stdin",
     "output_type": "stream",
     "text": [
      " pop\n",
      " print\n"
     ]
    },
    {
     "name": "stdout",
     "output_type": "stream",
     "text": [
      "[3, 12, 13]\n"
     ]
    },
    {
     "name": "stdin",
     "output_type": "stream",
     "text": [
      " reverse\n",
      " print\n"
     ]
    },
    {
     "name": "stdout",
     "output_type": "stream",
     "text": [
      "[13, 12, 3]\n"
     ]
    },
    {
     "name": "stdin",
     "output_type": "stream",
     "text": [
      " break\n"
     ]
    }
   ],
   "source": [
    "print(\"Commands: \\n\")\n",
    "lst = []\n",
    "while True:\n",
    "    s = input().lower()\n",
    "    com_list = s.split()\n",
    "    siz = len(com_list)\n",
    "    cmd = com_list[0]\n",
    "    if cmd == \"insert\" and siz == 3:\n",
    "        lst.insert(int(com_list[1]), int(com_list[2]))\n",
    "    elif cmd == \"remove\" and siz == 2:\n",
    "        lst.remove(int(com_list[1]))\n",
    "    elif cmd == \"print\":\n",
    "        print(lst)\n",
    "    elif cmd == \"sort\":\n",
    "        lst.sort()\n",
    "    elif cmd == \"append\" and siz == 2:\n",
    "        lst.append(int(com_list[1]))\n",
    "    elif cmd == \"pop\":\n",
    "        lst.pop()\n",
    "    elif cmd == \"reverse\":\n",
    "        lst.reverse()\n",
    "    elif cmd == \"break\":\n",
    "        break;\n",
    "    else:\n",
    "        print(\"Write correct command\")"
   ]
  },
  {
   "cell_type": "markdown",
   "id": "3a5f362d",
   "metadata": {},
   "source": [
    "## 2. Calculator using Python"
   ]
  },
  {
   "cell_type": "code",
   "execution_count": 11,
   "id": "97a18b0f",
   "metadata": {},
   "outputs": [
    {
     "name": "stdout",
     "output_type": "stream",
     "text": [
      "1.Addition \n",
      "2.Subtraction \n",
      "3.Multiplication \n",
      "4.Division\n",
      "5.Exit\n"
     ]
    },
    {
     "name": "stdin",
     "output_type": "stream",
     "text": [
      "Enter the Choice :  1\n",
      "Enter the a:  34\n",
      "Enter the b:  44\n"
     ]
    },
    {
     "name": "stdout",
     "output_type": "stream",
     "text": [
      "34 + 44 = 78\n",
      "\n",
      "\n",
      "1.Addition \n",
      "2.Subtraction \n",
      "3.Multiplication \n",
      "4.Division\n",
      "5.Exit\n"
     ]
    },
    {
     "name": "stdin",
     "output_type": "stream",
     "text": [
      "Enter the Choice :  4\n",
      "Enter the a:  23\n",
      "Enter the b:  4\n"
     ]
    },
    {
     "name": "stdout",
     "output_type": "stream",
     "text": [
      "23 / 4 = 5\n",
      "\n",
      "\n",
      "1.Addition \n",
      "2.Subtraction \n",
      "3.Multiplication \n",
      "4.Division\n",
      "5.Exit\n"
     ]
    },
    {
     "name": "stdin",
     "output_type": "stream",
     "text": [
      "Enter the Choice :  3\n",
      "Enter the a:  434\n",
      "Enter the b:  22\n"
     ]
    },
    {
     "name": "stdout",
     "output_type": "stream",
     "text": [
      "434 * 22 = 9548\n",
      "\n",
      "\n",
      "1.Addition \n",
      "2.Subtraction \n",
      "3.Multiplication \n",
      "4.Division\n",
      "5.Exit\n"
     ]
    },
    {
     "name": "stdin",
     "output_type": "stream",
     "text": [
      "Enter the Choice :  5\n"
     ]
    }
   ],
   "source": [
    "while(1):\n",
    "    print(\"1.Addition \\n2.Subtraction \\n3.Multiplication \\n4.Division\\n5.Exit\")\n",
    "    choice = int(input(\"Enter the Choice : \"))\n",
    "    \n",
    "    if(choice == 5):\n",
    "        break\n",
    "    elif(choice <=0 or choice >5):\n",
    "        print(\"Enter a default value\\n\")\n",
    "        continue\n",
    "    \n",
    "    a = int(input(\"Enter the a: \"))\n",
    "    b = int(input(\"Enter the b: \"))\n",
    "    \n",
    "    if(choice == 1):\n",
    "        print(\"%d + %d = %d\" %(a,b,a+b))\n",
    "    \n",
    "    elif(choice == 2):\n",
    "        print(\"%d - %d = %d\" %(a,b,a-b))\n",
    "    \n",
    "    elif(choice == 3):\n",
    "        print(\"%d * %d = %d\" %(a,b,a*b))\n",
    "    \n",
    "    elif(choice == 4):\n",
    "        print(\"%d / %d = %d\" %(a,b,a/b))\n",
    "    print(\"\\n\")\n",
    "    "
   ]
  },
  {
   "cell_type": "markdown",
   "id": "acd8ae08",
   "metadata": {},
   "source": [
    "## 3. Write a program to concatenate, reverse and slice a string?"
   ]
  },
  {
   "cell_type": "code",
   "execution_count": 6,
   "id": "5087730f",
   "metadata": {},
   "outputs": [
    {
     "name": "stdin",
     "output_type": "stream",
     "text": [
      "Enter the string s :  santhosh\n",
      "Enter the string t :  kumar\n"
     ]
    },
    {
     "name": "stdout",
     "output_type": "stream",
     "text": [
      "santhosh + kumar : santhoshkumar\n",
      "Reverse of the string santhosh : hsohtnas\n",
      " index 1 - 3 of santhosh : ant\n"
     ]
    }
   ],
   "source": [
    "s = str(input(\"Enter the string s : \"))\n",
    "t = str(input(\"Enter the string t : \"))\n",
    "\n",
    "#Concatenate two strings\n",
    "print(\"%s + %s : %s\" %(s,t,s+t))\n",
    "\n",
    "#Reverse a string\n",
    "print(\"Reverse of the string %s : %s\" %(s,s[::-1]))\n",
    "\n",
    "#slicing a string\n",
    "print(\" index 1 - 3 of %s : %s\" %(s,s[1:4]))"
   ]
  },
  {
   "cell_type": "markdown",
   "id": "df999eab",
   "metadata": {},
   "source": [
    "## 4. Why is Python a popular programming language?"
   ]
  },
  {
   "cell_type": "markdown",
   "id": "0e9ddbc3",
   "metadata": {},
   "source": [
    "1. Easy to use\n",
    "2. Has multiple libraries\n",
    "3. Vast community support"
   ]
  },
  {
   "cell_type": "markdown",
   "id": "4d605dae",
   "metadata": {},
   "source": [
    "## 5. What are the other Frameworks that can be used with python?"
   ]
  },
  {
   "cell_type": "markdown",
   "id": "ed388fdf",
   "metadata": {},
   "source": [
    "Django, Falcon, CherryPy and Flask are some other frameworks that can be used with python."
   ]
  },
  {
   "cell_type": "markdown",
   "id": "0caf9254",
   "metadata": {},
   "source": [
    "## 6. Full form of WSGI?"
   ]
  },
  {
   "cell_type": "markdown",
   "id": "b0baa38b",
   "metadata": {},
   "source": [
    "Web Server Gateway Interface : \n",
    "    WSGI (Web Server Gateway Interface) is an interface between web servers and web apps for python."
   ]
  },
  {
   "cell_type": "code",
   "execution_count": null,
   "id": "4aba401d",
   "metadata": {},
   "outputs": [],
   "source": []
  }
 ],
 "metadata": {
  "kernelspec": {
   "display_name": "Python 3 (ipykernel)",
   "language": "python",
   "name": "python3"
  },
  "language_info": {
   "codemirror_mode": {
    "name": "ipython",
    "version": 3
   },
   "file_extension": ".py",
   "mimetype": "text/x-python",
   "name": "python",
   "nbconvert_exporter": "python",
   "pygments_lexer": "ipython3",
   "version": "3.10.5"
  }
 },
 "nbformat": 4,
 "nbformat_minor": 5
}
