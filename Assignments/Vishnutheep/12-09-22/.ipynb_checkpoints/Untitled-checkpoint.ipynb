{
 "cells": [
  {
   "cell_type": "markdown",
   "id": "0c541927",
   "metadata": {},
   "source": [
    "# PYTHON ASSIGNMENT   12-09-2022"
   ]
  },
  {
   "cell_type": "markdown",
   "id": "c494d68c",
   "metadata": {},
   "source": [
    "## 1. Consider a list (list = []). You can perform the following commands:\n",
    "### insert i e: Insert integer  at position .\n",
    "### print: Print the list.\n",
    "### remove e: Delete the first occurrence of integer .\n",
    "### append e: Insert integer  at the end of the list.\n",
    "### sort: Sort the list.\n",
    "### pop: Pop the last element from the list.\n",
    "### reverse: Reverse the list.\n",
    "### Initialize your list and read in the value of  followed by  lines of commands where each command will be of the  types listed above. Iterate through each command in order and perform the corresponding operation on your list.\n",
    " "
   ]
  },
  {
   "cell_type": "code",
   "execution_count": 18,
   "id": "2238e64d",
   "metadata": {},
   "outputs": [
    {
     "name": "stdout",
     "output_type": "stream",
     "text": [
      "Enter a command: \n",
      "1. insert <i> <e> \n",
      "2. print \n",
      "3. remove <e> \n",
      "4. append <e>  \n",
      "5. sort \n",
      "6. pop \n",
      "7. reverse \n",
      "8. exit\n",
      "::append 1\n",
      "Enter a command: \n",
      "1. insert <i> <e> \n",
      "2. print \n",
      "3. remove <e> \n",
      "4. append <e>  \n",
      "5. sort \n",
      "6. pop \n",
      "7. reverse \n",
      "8. exit\n",
      "::insert 0 9\n",
      "Enter a command: \n",
      "1. insert <i> <e> \n",
      "2. print \n",
      "3. remove <e> \n",
      "4. append <e>  \n",
      "5. sort \n",
      "6. pop \n",
      "7. reverse \n",
      "8. exit\n",
      "::print\n",
      "['9', '1']\n",
      "Enter a command: \n",
      "1. insert <i> <e> \n",
      "2. print \n",
      "3. remove <e> \n",
      "4. append <e>  \n",
      "5. sort \n",
      "6. pop \n",
      "7. reverse \n",
      "8. exit\n",
      "::insert 1 5\n",
      "Enter a command: \n",
      "1. insert <i> <e> \n",
      "2. print \n",
      "3. remove <e> \n",
      "4. append <e>  \n",
      "5. sort \n",
      "6. pop \n",
      "7. reverse \n",
      "8. exit\n",
      "::print\n",
      "['9', '5', '1']\n",
      "Enter a command: \n",
      "1. insert <i> <e> \n",
      "2. print \n",
      "3. remove <e> \n",
      "4. append <e>  \n",
      "5. sort \n",
      "6. pop \n",
      "7. reverse \n",
      "8. exit\n",
      "::sort\n",
      "Enter a command: \n",
      "1. insert <i> <e> \n",
      "2. print \n",
      "3. remove <e> \n",
      "4. append <e>  \n",
      "5. sort \n",
      "6. pop \n",
      "7. reverse \n",
      "8. exit\n",
      "::print\n",
      "['1', '5', '9']\n",
      "Enter a command: \n",
      "1. insert <i> <e> \n",
      "2. print \n",
      "3. remove <e> \n",
      "4. append <e>  \n",
      "5. sort \n",
      "6. pop \n",
      "7. reverse \n",
      "8. exit\n",
      "::reverse\n",
      "Enter a command: \n",
      "1. insert <i> <e> \n",
      "2. print \n",
      "3. remove <e> \n",
      "4. append <e>  \n",
      "5. sort \n",
      "6. pop \n",
      "7. reverse \n",
      "8. exit\n",
      "::print\n",
      "['9', '5', '1']\n",
      "Enter a command: \n",
      "1. insert <i> <e> \n",
      "2. print \n",
      "3. remove <e> \n",
      "4. append <e>  \n",
      "5. sort \n",
      "6. pop \n",
      "7. reverse \n",
      "8. exit\n",
      "::exit\n",
      "['9', '5', '1']\n"
     ]
    }
   ],
   "source": [
    "def q1():\n",
    "    l = []\n",
    "    loop = True\n",
    "    while loop:\n",
    "        command = input(\"Enter a command: \\n\" \\\n",
    "                        \"1. insert <i> <e> \\n\" \\\n",
    "                        \"2. print \\n\" \\\n",
    "                        \"3. remove <e> \\n\" \\\n",
    "                        \"4. append <e>  \\n\" \\\n",
    "                        \"5. sort \\n\" \\\n",
    "                        \"6. pop \\n\" \\\n",
    "                        \"7. reverse \\n\" \\\n",
    "                        \"8. exit\\n::\") \n",
    "        ele = command.split()\n",
    "        match ele[0]:\n",
    "            case \"insert\":\n",
    "                if len(ele) == 3:\n",
    "                    l.insert(int(ele[1]) , ele[2])\n",
    "                else:\n",
    "                    print(\"Insufficient/Extra parameters\")\n",
    "            case \"print\":\n",
    "                print(l)\n",
    "            case \"remove\":\n",
    "                if len(ele) == 2:\n",
    "                    try:\n",
    "                        l.remove(ele[1])\n",
    "                    except ValueError:\n",
    "                        print(\"Element doesn't exist\")\n",
    "                else:\n",
    "                    print(\"Insufficient/Extra parameters\")\n",
    "            case \"append\":\n",
    "                if len(ele) == 2:\n",
    "                    l.append(ele[1])\n",
    "                else:\n",
    "                    print(\"Insufficient/Extra parameters\")\n",
    "            case \"sort\":\n",
    "                l.sort()\n",
    "            case \"pop\":\n",
    "                l.pop()\n",
    "            case \"reverse\":\n",
    "                l.reverse()\n",
    "            case \"exit\":\n",
    "                print(l)\n",
    "                loop = False\n",
    "            case default:\n",
    "                print(\"Invalid option\")\n",
    "\n",
    "q1()"
   ]
  },
  {
   "cell_type": "markdown",
   "id": "3a5f362d",
   "metadata": {},
   "source": [
    "# 2. Calculator using Python"
   ]
  },
  {
   "cell_type": "code",
   "execution_count": 19,
   "id": "97a18b0f",
   "metadata": {},
   "outputs": [
    {
     "name": "stdout",
     "output_type": "stream",
     "text": [
      "Enter the number-1: 4\n",
      "Enter the number-2: 6\n",
      "1.Addition \n",
      "2.Subtraction \n",
      "3.Multiplication \n",
      "4.Division\n",
      "5.Exit\n",
      "Enter the Choice : 1\n",
      "4 + 6 = 10\n",
      "Enter the number-1: 4\n",
      "Enter the number-2: 2\n",
      "1.Addition \n",
      "2.Subtraction \n",
      "3.Multiplication \n",
      "4.Division\n",
      "5.Exit\n",
      "Enter the Choice : 2\n",
      "4 - 2 = 2\n",
      "Enter the number-1: 5\n",
      "Enter the number-2: 5\n",
      "1.Addition \n",
      "2.Subtraction \n",
      "3.Multiplication \n",
      "4.Division\n",
      "5.Exit\n",
      "Enter the Choice : 3\n",
      "5 * 5 = 25\n",
      "Enter the number-1: 6\n",
      "Enter the number-2: 3\n",
      "1.Addition \n",
      "2.Subtraction \n",
      "3.Multiplication \n",
      "4.Division\n",
      "5.Exit\n",
      "Enter the Choice : 4\n",
      "6 / 3 = 2\n",
      "Enter the number-1: 5\n",
      "Enter the number-2: 1\n",
      "1.Addition \n",
      "2.Subtraction \n",
      "3.Multiplication \n",
      "4.Division\n",
      "5.Exit\n",
      "Enter the Choice : 5\n"
     ]
    }
   ],
   "source": [
    "while(1):\n",
    "    a = int(input(\"Enter the number-1: \"))\n",
    "    b = int(input(\"Enter the number-2: \"))\n",
    "    \n",
    "    print(\"1.Addition \\n2.Subtraction \\n3.Multiplication \\n4.Division\\n5.Exit\")\n",
    "    choice = int(input(\"Enter the Choice : \"))\n",
    "    \n",
    "    if(choice <=0 or choice >5):\n",
    "        print(\"Choice not valid\")\n",
    "        continue\n",
    "    \n",
    "    if(choice == 1):\n",
    "        print(\"%d + %d = %d\" %(a,b,a+b))\n",
    "    \n",
    "    elif(choice == 2):\n",
    "        print(\"%d - %d = %d\" %(a,b,a-b))\n",
    "    \n",
    "    elif(choice == 3):\n",
    "        print(\"%d * %d = %d\" %(a,b,a*b))\n",
    "    \n",
    "    elif(choice == 4):\n",
    "        print(\"%d / %d = %d\" %(a,b,a/b))\n",
    "    else:\n",
    "        break;"
   ]
  },
  {
   "cell_type": "markdown",
   "id": "acd8ae08",
   "metadata": {},
   "source": [
    "# 3. Write a program to concatenate, reverse and slice a string?"
   ]
  },
  {
   "cell_type": "code",
   "execution_count": 11,
   "id": "5087730f",
   "metadata": {},
   "outputs": [
    {
     "name": "stdout",
     "output_type": "stream",
     "text": [
      "Enter a string - 1 : vishnu\n",
      "Enter a string - 2 : theep\n",
      "vishnu + theep : vishnutheep\n",
      "Reverse of the string vishnu : unhsiv\n",
      " index 1 - 3 of vishnu : ish\n"
     ]
    }
   ],
   "source": [
    "s = str(input(\"Enter a string - 1 : \"))\n",
    "t = str(input(\"Enter a string - 2 : \"))\n",
    "\n",
    "#Concatenate two strings\n",
    "print(\"%s + %s : %s\" %(s,t,s+t))\n",
    "\n",
    "#Reverse a string\n",
    "print(\"Reverse of the string %s : %s\" %(s,s[::-1]))\n",
    "\n",
    "#slicing a string\n",
    "print(\" index 1 - 3 of %s : %s\" %(s,s[1:4]))"
   ]
  },
  {
   "cell_type": "markdown",
   "id": "df999eab",
   "metadata": {},
   "source": [
    "# 4. Why is Python a popular programming language?"
   ]
  },
  {
   "cell_type": "markdown",
   "id": "0e9ddbc3",
   "metadata": {},
   "source": [
    "1. Easy to use\n",
    "2. Has multiple libraries\n",
    "3. Vast community support"
   ]
  },
  {
   "cell_type": "markdown",
   "id": "4d605dae",
   "metadata": {},
   "source": [
    "# 5. What are the other Frameworks that can be used with python?"
   ]
  },
  {
   "cell_type": "markdown",
   "id": "ed388fdf",
   "metadata": {},
   "source": [
    "Flask, Django, Falcon, CherryPy"
   ]
  },
  {
   "cell_type": "markdown",
   "id": "0caf9254",
   "metadata": {},
   "source": [
    "# 6. Full form of WSGI?"
   ]
  },
  {
   "cell_type": "markdown",
   "id": "b0baa38b",
   "metadata": {},
   "source": [
    "Web Server Gateway Interface : \n",
    "    WSGI (Web Server Gateway Interface) is an interface between web servers and web apps for python."
   ]
  },
  {
   "cell_type": "code",
   "execution_count": null,
   "id": "4aba401d",
   "metadata": {},
   "outputs": [],
   "source": []
  }
 ],
 "metadata": {
  "kernelspec": {
   "display_name": "Python 3 (ipykernel)",
   "language": "python",
   "name": "python3"
  },
  "language_info": {
   "codemirror_mode": {
    "name": "ipython",
    "version": 3
   },
   "file_extension": ".py",
   "mimetype": "text/x-python",
   "name": "python",
   "nbconvert_exporter": "python",
   "pygments_lexer": "ipython3",
   "version": "3.10.4"
  }
 },
 "nbformat": 4,
 "nbformat_minor": 5
}
